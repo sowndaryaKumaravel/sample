{
 "cells": [
  {
   "cell_type": "code",
   "execution_count": 3,
   "id": "d852e39a",
   "metadata": {},
   "outputs": [
    {
     "name": "stdout",
     "output_type": "stream",
     "text": [
      "enter the number5\n",
      "the factorial of  5 is 120\n"
     ]
    }
   ],
   "source": [
    "def fact(x):\n",
    "    if x==1:\n",
    "        return 1\n",
    "    else:\n",
    "        return(x*fact(x-1))\n",
    "    \n",
    "num=int(input(\"enter the number\"))\n",
    "result=fact(num)\n",
    "print(\"the factorial of \",num,\"is\",result)"
   ]
  },
  {
   "cell_type": "code",
   "execution_count": null,
   "id": "ec997019",
   "metadata": {},
   "outputs": [],
   "source": []
  }
 ],
 "metadata": {
  "kernelspec": {
   "display_name": "Python 3 (ipykernel)",
   "language": "python",
   "name": "python3"
  },
  "language_info": {
   "codemirror_mode": {
    "name": "ipython",
    "version": 3
   },
   "file_extension": ".py",
   "mimetype": "text/x-python",
   "name": "python",
   "nbconvert_exporter": "python",
   "pygments_lexer": "ipython3",
   "version": "3.11.3"
  }
 },
 "nbformat": 4,
 "nbformat_minor": 5
}
